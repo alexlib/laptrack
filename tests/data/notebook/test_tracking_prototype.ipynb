{
 "metadata": {
  "language_info": {
   "codemirror_mode": {
    "name": "ipython",
    "version": 3
   },
   "file_extension": ".py",
   "mimetype": "text/x-python",
   "name": "python",
   "nbconvert_exporter": "python",
   "pygments_lexer": "ipython3",
   "version": "3.9.6"
  },
  "orig_nbformat": 4,
  "kernelspec": {
   "name": "python3",
   "display_name": "Python 3.9.6 64-bit ('.venv': poetry)"
  },
  "interpreter": {
   "hash": "e1459cf146ef3a1a248f32f7b69e22a3c00fc1262d345cd0a597180711d9dcdf"
  }
 },
 "nbformat": 4,
 "nbformat_minor": 2,
 "cells": [
  {
   "cell_type": "code",
   "execution_count": 6,
   "metadata": {},
   "outputs": [],
   "source": [
    "from os import path\n",
    "from laptrack import track\n",
    "import pandas as pd"
   ]
  },
  {
   "cell_type": "code",
   "execution_count": 2,
   "metadata": {},
   "outputs": [],
   "source": [
    "DEFAULT_PARAMS=dict(\n",
    "    track_distance_cutoff = 15,\n",
    "    track_start_cost= 30, \n",
    "    track_end_cost= 30, \n",
    "    gap_closing_cutoff= 15,\n",
    "    gap_closing_max_frame_count= 2,\n",
    "    splitting_cutoff= False,\n",
    "    no_splitting_cost= 30,\n",
    "    merging_cutoff= False,\n",
    "    no_merging_cost= 30, \n",
    ")\n",
    "\n",
    "FILENAME_SUFFIX_PARAMS=[\n",
    "    (\"without_gap_closing\",{\n",
    "        **DEFAULT_PARAMS,\n",
    "        \"gap_closing_cutoff\":False,\n",
    "        \"splitting_cutoff\":False,\n",
    "        \"merging_cutoff\":False,\n",
    "        }),\n",
    "        #    (\"with_gap_closing\",{\n",
    "#       **DEFAULT_PARAMS,\n",
    "#       \"splitting_cutoff\":False,\n",
    "#       \"merging_cutoff\":False,\n",
    "#       }),\n",
    "#    (\"with_splitting\",{\n",
    "#       **DEFAULT_PARAMS,\n",
    "#       \"merging_cutoff\":False,\n",
    "#       }),\n",
    "#    (\"with_merging\",{\n",
    "#        **DEFAULT_PARAMS,\n",
    "#        \"splitting_cutoff\":False,\n",
    "#        }),\n",
    "]"
   ]
  },
  {
   "cell_type": "code",
   "execution_count": 41,
   "metadata": {},
   "outputs": [],
   "source": [
    "for filename_suffix, params in FILENAME_SUFFIX_PARAMS:\n",
    "    filename=path.join(\"../\"\n",
    "                        f\"trackmate_tracks_{filename_suffix}\")\n",
    "    spots_df = pd.read_csv(filename+\"_spots.csv\",index_col=0)\n",
    "    frame_max = spots_df[\"frame\"].max()\n",
    "    coords=[]\n",
    "    spot_ids=[]\n",
    "    for i in range(frame_max):\n",
    "        df=spots_df[spots_df[\"frame\"]==i]\n",
    "        coords.append(\n",
    "            df[[\"position_x\",\"position_y\"]].values\n",
    "        )\n",
    "        spot_ids.append(\n",
    "            df[\"id\"].values\n",
    "        )\n",
    "    track_tree=track(coords,**params)\n",
    "    \n",
    "    spot_id_to_coord_id={}\n",
    "    for i, spot_ids_frame in enumerate(spot_ids):\n",
    "        for j, spot_id in enumerate(spot_ids_frame):\n",
    "            assert not spot_id in spot_id_to_coord_id\n",
    "            spot_id_to_coord_id[spot_id]=(i,j)\n",
    "    \n",
    "    edges_df = pd.read_csv(filename+\"_edges.csv\",index_col=0)\n",
    "    edges_df[\"coord_source_id\"]=edges_df[\"spot_source_id\"].map(spot_id_to_coord_id)\n",
    "    edges_df[\"coord_target_id\"]=edges_df[\"spot_target_id\"].map(spot_id_to_coord_id)\n",
    "    valid_edges_df=edges_df[~pd.isna(edges_df[\"coord_target_id\"])]\n",
    "    edges_arr=valid_edges_df[[\"coord_source_id\",\"coord_target_id\"]].values\n",
    "    \n",
    "    assert set(list(map(tuple,(edges_arr)))) == set(track_tree.edges)"
   ]
  }
 ]
}